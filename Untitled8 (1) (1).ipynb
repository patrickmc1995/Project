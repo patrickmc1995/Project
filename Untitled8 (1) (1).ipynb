{
 "cells": [
  {
   "cell_type": "code",
   "execution_count": 1,
   "id": "bea98041-43de-4a4b-a6ff-2e4ba3f21e34",
   "metadata": {},
   "outputs": [],
   "source": [
    "import pandas as pd"
   ]
  },
  {
   "cell_type": "code",
   "execution_count": 2,
   "id": "368111d2-5615-4755-9a4a-20a060372b80",
   "metadata": {},
   "outputs": [],
   "source": [
    "import numpy as np"
   ]
  },
  {
   "cell_type": "code",
   "execution_count": 3,
   "id": "40caa243-dc47-421b-91d3-b0f03d8b5291",
   "metadata": {},
   "outputs": [],
   "source": [
    "import seaborn as sns"
   ]
  },
  {
   "cell_type": "code",
   "execution_count": 5,
   "id": "43d36ff5-6cd0-44fe-a1cd-cb899f1b1c4f",
   "metadata": {},
   "outputs": [],
   "source": [
    "import matplotlib.pyplot as plt"
   ]
  },
  {
   "cell_type": "code",
   "execution_count": 6,
   "id": "bcefbb0c-59e8-4686-a439-6976b815e8f2",
   "metadata": {},
   "outputs": [],
   "source": [
    "dataset = pd.read_csv(\"work.csv\")"
   ]
  },
  {
   "cell_type": "code",
   "execution_count": 7,
   "id": "26f0c2ac-c328-45ae-8240-7c0efefcbdf9",
   "metadata": {},
   "outputs": [
    {
     "data": {
      "text/html": [
       "<div>\n",
       "<style scoped>\n",
       "    .dataframe tbody tr th:only-of-type {\n",
       "        vertical-align: middle;\n",
       "    }\n",
       "\n",
       "    .dataframe tbody tr th {\n",
       "        vertical-align: top;\n",
       "    }\n",
       "\n",
       "    .dataframe thead th {\n",
       "        text-align: right;\n",
       "    }\n",
       "</style>\n",
       "<table border=\"1\" class=\"dataframe\">\n",
       "  <thead>\n",
       "    <tr style=\"text-align: right;\">\n",
       "      <th></th>\n",
       "      <th>Symbol</th>\n",
       "      <th>Open</th>\n",
       "      <th>High</th>\n",
       "      <th>Low</th>\n",
       "      <th>LTP</th>\n",
       "      <th>Chng</th>\n",
       "      <th>% Chng</th>\n",
       "      <th>Volume (lacs)</th>\n",
       "      <th>Turnover (crs.)</th>\n",
       "      <th>52w H</th>\n",
       "      <th>52w L</th>\n",
       "      <th>365 d % chng</th>\n",
       "      <th>30 d % chng</th>\n",
       "    </tr>\n",
       "  </thead>\n",
       "  <tbody>\n",
       "    <tr>\n",
       "      <th>0</th>\n",
       "      <td>ADANIPORTS</td>\n",
       "      <td>750</td>\n",
       "      <td>766</td>\n",
       "      <td>713.25</td>\n",
       "      <td>715</td>\n",
       "      <td>-47.45</td>\n",
       "      <td>-6.22</td>\n",
       "      <td>72.20</td>\n",
       "      <td>532.63</td>\n",
       "      <td>901</td>\n",
       "      <td>384.4</td>\n",
       "      <td>79.22</td>\n",
       "      <td>-4.65</td>\n",
       "    </tr>\n",
       "    <tr>\n",
       "      <th>1</th>\n",
       "      <td>ASIANPAINT</td>\n",
       "      <td>3,101.00</td>\n",
       "      <td>3,167.35</td>\n",
       "      <td>3,091.00</td>\n",
       "      <td>3,138.00</td>\n",
       "      <td>-6.25</td>\n",
       "      <td>-0.20</td>\n",
       "      <td>10.29</td>\n",
       "      <td>322.53</td>\n",
       "      <td>3,505.00</td>\n",
       "      <td>2,117.15</td>\n",
       "      <td>45.66</td>\n",
       "      <td>5.66</td>\n",
       "    </tr>\n",
       "    <tr>\n",
       "      <th>2</th>\n",
       "      <td>AXISBANK</td>\n",
       "      <td>669</td>\n",
       "      <td>674.9</td>\n",
       "      <td>660.45</td>\n",
       "      <td>661</td>\n",
       "      <td>-18.90</td>\n",
       "      <td>-2.78</td>\n",
       "      <td>102.53</td>\n",
       "      <td>684</td>\n",
       "      <td>866.9</td>\n",
       "      <td>568.4</td>\n",
       "      <td>10.19</td>\n",
       "      <td>-21.49</td>\n",
       "    </tr>\n",
       "    <tr>\n",
       "      <th>3</th>\n",
       "      <td>BAJAJ-AUTO</td>\n",
       "      <td>3,370.00</td>\n",
       "      <td>3,383.50</td>\n",
       "      <td>3,320.00</td>\n",
       "      <td>3,335.00</td>\n",
       "      <td>-56.70</td>\n",
       "      <td>-1.67</td>\n",
       "      <td>3.42</td>\n",
       "      <td>114.59</td>\n",
       "      <td>4,361.40</td>\n",
       "      <td>3,041.00</td>\n",
       "      <td>9.30</td>\n",
       "      <td>-12.05</td>\n",
       "    </tr>\n",
       "    <tr>\n",
       "      <th>4</th>\n",
       "      <td>BAJAJFINSV</td>\n",
       "      <td>17,200.00</td>\n",
       "      <td>17,237.20</td>\n",
       "      <td>16,610.00</td>\n",
       "      <td>16,684.00</td>\n",
       "      <td>-684.85</td>\n",
       "      <td>-3.94</td>\n",
       "      <td>3.42</td>\n",
       "      <td>576.79</td>\n",
       "      <td>19,325.00</td>\n",
       "      <td>8,273.70</td>\n",
       "      <td>91.38</td>\n",
       "      <td>-9.10</td>\n",
       "    </tr>\n",
       "  </tbody>\n",
       "</table>\n",
       "</div>"
      ],
      "text/plain": [
       "       Symbol       Open       High        Low        LTP    Chng  % Chng  \\\n",
       "0  ADANIPORTS        750        766     713.25        715  -47.45   -6.22   \n",
       "1  ASIANPAINT   3,101.00   3,167.35   3,091.00   3,138.00   -6.25   -0.20   \n",
       "2    AXISBANK        669      674.9     660.45        661  -18.90   -2.78   \n",
       "3  BAJAJ-AUTO   3,370.00   3,383.50   3,320.00   3,335.00  -56.70   -1.67   \n",
       "4  BAJAJFINSV  17,200.00  17,237.20  16,610.00  16,684.00 -684.85   -3.94   \n",
       "\n",
       "   Volume (lacs) Turnover (crs.)      52w H     52w L  365 d % chng  \\\n",
       "0          72.20          532.63        901     384.4         79.22   \n",
       "1          10.29          322.53   3,505.00  2,117.15         45.66   \n",
       "2         102.53             684      866.9     568.4         10.19   \n",
       "3           3.42          114.59   4,361.40  3,041.00          9.30   \n",
       "4           3.42          576.79  19,325.00  8,273.70         91.38   \n",
       "\n",
       "   30 d % chng  \n",
       "0        -4.65  \n",
       "1         5.66  \n",
       "2       -21.49  \n",
       "3       -12.05  \n",
       "4        -9.10  "
      ]
     },
     "execution_count": 7,
     "metadata": {},
     "output_type": "execute_result"
    }
   ],
   "source": [
    "dataset.head()"
   ]
  },
  {
   "cell_type": "code",
   "execution_count": 17,
   "id": "167f9851-9829-4eff-8f7c-850ae8e4a037",
   "metadata": {},
   "outputs": [
    {
     "name": "stdout",
     "output_type": "stream",
     "text": [
      "<class 'pandas.core.frame.DataFrame'>\n",
      "RangeIndex: 50 entries, 0 to 49\n",
      "Data columns (total 13 columns):\n",
      " #   Column           Non-Null Count  Dtype  \n",
      "---  ------           --------------  -----  \n",
      " 0   Symbol           50 non-null     object \n",
      " 1   Open             50 non-null     object \n",
      " 2   High             50 non-null     object \n",
      " 3   Low              50 non-null     object \n",
      " 4   LTP              50 non-null     object \n",
      " 5   Chng             50 non-null     float64\n",
      " 6   % Chng           50 non-null     float64\n",
      " 7   Volume (lacs)    50 non-null     float64\n",
      " 8   Turnover (crs.)  50 non-null     object \n",
      " 9   52w H            50 non-null     object \n",
      " 10  52w L            50 non-null     object \n",
      " 11  365 d % chng     50 non-null     float64\n",
      " 12  30 d % chng      50 non-null     float64\n",
      "dtypes: float64(5), object(8)\n",
      "memory usage: 5.2+ KB\n"
     ]
    }
   ],
   "source": [
    "dataset.info()"
   ]
  },
  {
   "cell_type": "code",
   "execution_count": 29,
   "id": "2d78c1d7-c446-4b2a-b968-ac193b2b1f81",
   "metadata": {},
   "outputs": [
    {
     "name": "stdout",
     "output_type": "stream",
     "text": [
      "Symbol\n",
      "Open\n",
      "High\n",
      "Low\n",
      "LTP\n",
      "Turnover_In_Crores\n",
      "52_Week_High\n",
      "52_Week_Low\n",
      "<class 'pandas.core.frame.DataFrame'>\n",
      "RangeIndex: 50 entries, 0 to 49\n",
      "Data columns (total 13 columns):\n",
      " #   Column                  Non-Null Count  Dtype  \n",
      "---  ------                  --------------  -----  \n",
      " 0   Symbol                  0 non-null      float32\n",
      " 1   Open                    50 non-null     float32\n",
      " 2   High                    50 non-null     float32\n",
      " 3   Low                     50 non-null     float32\n",
      " 4   LTP                     50 non-null     float32\n",
      " 5   Chng                    50 non-null     float64\n",
      " 6   Percent_Change          50 non-null     float64\n",
      " 7   Volume_In_Lacs          50 non-null     float64\n",
      " 8   Turnover_In_Crores      50 non-null     float32\n",
      " 9   52_Week_High            50 non-null     float32\n",
      " 10  52_Week_Low             50 non-null     float32\n",
      " 11  365_Day_Percent_Change  50 non-null     float64\n",
      " 12  30_Day_Percent_Change   50 non-null     float64\n",
      "dtypes: float32(8), float64(5)\n",
      "memory usage: 3.6 KB\n"
     ]
    }
   ],
   "source": [
    "dataset.rename(columns={\"% Chng\":\"Percent_Change\",\"Volume (lacs)\":\"Volume_In_Lacs\",\"Turnover (crs.)\":\"Turnover_In_Crores\",\"52w H\":\"52_Week_High\",\"52w L\":\"52_Week_Low\",\n",
    "                      \"365 d % chng\":\"365_Day_Percent_Change\",\"30 d % chng\":\"30_Day_Percent_Change\"},inplace=True)\n",
    "cols = dataset.select_dtypes(exclude=['float']).columns\n",
    "for col in cols:\n",
    "    print(col)\n",
    "    dataset[col]=dataset[col].str.replace(\",\",\"\")\n",
    "\n",
    "dataset[cols] = dataset[cols].apply(pd.to_numeric, downcast='float', errors='coerce')\n",
    "\n",
    "dataset.info()"
   ]
  },
  {
   "cell_type": "code",
   "execution_count": 31,
   "id": "cc6d742e-4bcb-42ee-9cf5-c5445af20e64",
   "metadata": {},
   "outputs": [
    {
     "data": {
      "text/plain": [
       "Symbol                    50\n",
       "Open                       0\n",
       "High                       0\n",
       "Low                        0\n",
       "LTP                        0\n",
       "Chng                       0\n",
       "Percent_Change             0\n",
       "Volume_In_Lacs             0\n",
       "Turnover_In_Crores         0\n",
       "52_Week_High               0\n",
       "52_Week_Low                0\n",
       "365_Day_Percent_Change     0\n",
       "30_Day_Percent_Change      0\n",
       "dtype: int64"
      ]
     },
     "execution_count": 31,
     "metadata": {},
     "output_type": "execute_result"
    }
   ],
   "source": [
    "dataset.isnull().sum()"
   ]
  },
  {
   "cell_type": "code",
   "execution_count": 35,
   "id": "26fd8b1b-d468-40b6-b737-bb9e00bae233",
   "metadata": {},
   "outputs": [
    {
     "ename": "AttributeError",
     "evalue": "'AxesSubplot' object has no attribute 'bar_label'",
     "output_type": "error",
     "traceback": [
      "\u001b[1;31m---------------------------------------------------------------------------\u001b[0m",
      "\u001b[1;31mAttributeError\u001b[0m                            Traceback (most recent call last)",
      "\u001b[1;32m<ipython-input-35-f8b195a56230>\u001b[0m in \u001b[0;36m<module>\u001b[1;34m\u001b[0m\n\u001b[0;32m      6\u001b[0m \u001b[0max\u001b[0m \u001b[1;33m=\u001b[0m \u001b[0msns\u001b[0m\u001b[1;33m.\u001b[0m\u001b[0mbarplot\u001b[0m\u001b[1;33m(\u001b[0m\u001b[0mx\u001b[0m\u001b[1;33m=\u001b[0m\u001b[0mdataset\u001b[0m\u001b[1;33m.\u001b[0m\u001b[0mindex\u001b[0m\u001b[1;33m,\u001b[0m\u001b[0my\u001b[0m\u001b[1;33m=\u001b[0m\u001b[0mdataset\u001b[0m\u001b[1;33m[\u001b[0m\u001b[1;34m\"Turnover_In_Crores\"\u001b[0m\u001b[1;33m]\u001b[0m\u001b[1;33m)\u001b[0m\u001b[1;33m\u001b[0m\u001b[1;33m\u001b[0m\u001b[0m\n\u001b[0;32m      7\u001b[0m \u001b[1;31m#sns.barplot(x=dataset.index,y=dataset[\"Turnover_In_Crores\"])\u001b[0m\u001b[1;33m\u001b[0m\u001b[1;33m\u001b[0m\u001b[1;33m\u001b[0m\u001b[0m\n\u001b[1;32m----> 8\u001b[1;33m \u001b[0max\u001b[0m\u001b[1;33m.\u001b[0m\u001b[0mbar_label\u001b[0m\u001b[1;33m(\u001b[0m\u001b[0max\u001b[0m\u001b[1;33m.\u001b[0m\u001b[0mcontainers\u001b[0m\u001b[1;33m[\u001b[0m\u001b[1;36m0\u001b[0m\u001b[1;33m]\u001b[0m\u001b[1;33m,\u001b[0m \u001b[0mfontsize\u001b[0m \u001b[1;33m=\u001b[0m \u001b[1;36m8\u001b[0m\u001b[1;33m)\u001b[0m\u001b[1;33m\u001b[0m\u001b[1;33m\u001b[0m\u001b[0m\n\u001b[0m\u001b[0;32m      9\u001b[0m \u001b[0mplt\u001b[0m\u001b[1;33m.\u001b[0m\u001b[0mtitle\u001b[0m\u001b[1;33m(\u001b[0m\u001b[1;34m\"Dataset Stocks Turnover in Crores\"\u001b[0m\u001b[1;33m)\u001b[0m\u001b[1;33m\u001b[0m\u001b[1;33m\u001b[0m\u001b[0m\n\u001b[0;32m     10\u001b[0m \u001b[0mplt\u001b[0m\u001b[1;33m.\u001b[0m\u001b[0mxlabel\u001b[0m\u001b[1;33m(\u001b[0m\u001b[1;34m\"Stock Names\"\u001b[0m\u001b[1;33m)\u001b[0m\u001b[1;33m\u001b[0m\u001b[1;33m\u001b[0m\u001b[0m\n",
      "\u001b[1;31mAttributeError\u001b[0m: 'AxesSubplot' object has no attribute 'bar_label'"
     ]
    },
    {
     "data": {
      "image/png": "[encoded data removed]",
      "text/plain": [
       "<Figure size 1800x432 with 1 Axes>"
      ]
     },
     "metadata": {},
     "output_type": "display_data"
    }
   ],
   "source": [
    "plt.figure(figsize=(25,6))\n",
    "plt.xticks(rotation=90)\n",
    "\n",
    "sns.set_style(\"whitegrid\")\n",
    "\n",
    "ax = sns.barplot(x=dataset.index,y=dataset[\"Turnover_In_Crores\"])\n",
    "#sns.barplot(x=dataset.index,y=dataset[\"Turnover_In_Crores\"])\n",
    "ax.bar_label(ax.containers[0], fontsize = 8)\n",
    "plt.title(\"Dataset Stocks Turnover in Crores\")\n",
    "plt.xlabel(\"Stock Names\")\n",
    "plt.ylabel(\"Turnover(crores)\")"
   ]
  },
  {
   "cell_type": "code",
   "execution_count": 36,
   "id": "33ae9d5f-ecc1-49d5-8ff0-c96a02c95fb7",
   "metadata": {},
   "outputs": [
    {
     "ename": "AttributeError",
     "evalue": "'AxesSubplot' object has no attribute 'bar_label'",
     "output_type": "error",
     "traceback": [
      "\u001b[1;31m---------------------------------------------------------------------------\u001b[0m",
      "\u001b[1;31mAttributeError\u001b[0m                            Traceback (most recent call last)",
      "\u001b[1;32m<ipython-input-36-14a9c9142cb8>\u001b[0m in \u001b[0;36m<module>\u001b[1;34m\u001b[0m\n\u001b[0;32m      6\u001b[0m \u001b[0max\u001b[0m \u001b[1;33m=\u001b[0m \u001b[0msns\u001b[0m\u001b[1;33m.\u001b[0m\u001b[0mbarplot\u001b[0m\u001b[1;33m(\u001b[0m\u001b[0mx\u001b[0m\u001b[1;33m=\u001b[0m\u001b[0mdataset\u001b[0m\u001b[1;33m.\u001b[0m\u001b[0mindex\u001b[0m\u001b[1;33m,\u001b[0m\u001b[0my\u001b[0m\u001b[1;33m=\u001b[0m\u001b[0mdataset\u001b[0m\u001b[1;33m[\u001b[0m\u001b[1;34m\"Volume_In_Lacs\"\u001b[0m\u001b[1;33m]\u001b[0m\u001b[1;33m)\u001b[0m\u001b[1;33m\u001b[0m\u001b[1;33m\u001b[0m\u001b[0m\n\u001b[0;32m      7\u001b[0m \u001b[1;31m#sns.barplot(x=dataset.index,y=dataset[\"Volume_In_Lacs\"])\u001b[0m\u001b[1;33m\u001b[0m\u001b[1;33m\u001b[0m\u001b[1;33m\u001b[0m\u001b[0m\n\u001b[1;32m----> 8\u001b[1;33m \u001b[0max\u001b[0m\u001b[1;33m.\u001b[0m\u001b[0mbar_label\u001b[0m\u001b[1;33m(\u001b[0m\u001b[0max\u001b[0m\u001b[1;33m.\u001b[0m\u001b[0mcontainers\u001b[0m\u001b[1;33m[\u001b[0m\u001b[1;36m0\u001b[0m\u001b[1;33m]\u001b[0m\u001b[1;33m,\u001b[0m \u001b[0mfontsize\u001b[0m \u001b[1;33m=\u001b[0m \u001b[1;36m8\u001b[0m\u001b[1;33m)\u001b[0m\u001b[1;33m\u001b[0m\u001b[1;33m\u001b[0m\u001b[0m\n\u001b[0m\u001b[0;32m      9\u001b[0m \u001b[0mplt\u001b[0m\u001b[1;33m.\u001b[0m\u001b[0mtitle\u001b[0m\u001b[1;33m(\u001b[0m\u001b[1;34m\"Dataset 50 Stocks Volume Traded in Lacs\"\u001b[0m\u001b[1;33m)\u001b[0m\u001b[1;33m\u001b[0m\u001b[1;33m\u001b[0m\u001b[0m\n\u001b[0;32m     10\u001b[0m \u001b[0mplt\u001b[0m\u001b[1;33m.\u001b[0m\u001b[0mxlabel\u001b[0m\u001b[1;33m(\u001b[0m\u001b[1;34m\"Stock Names\"\u001b[0m\u001b[1;33m)\u001b[0m\u001b[1;33m\u001b[0m\u001b[1;33m\u001b[0m\u001b[0m\n",
      "\u001b[1;31mAttributeError\u001b[0m: 'AxesSubplot' object has no attribute 'bar_label'"
     ]
    },
    {
     "data": {
      "image/png": "[encoded data removed]",
      "text/plain": [
       "<Figure size 1800x432 with 1 Axes>"
      ]
     },
     "metadata": {},
     "output_type": "display_data"
    }
   ],
   "source": [
    "plt.figure(figsize=(25,6))\n",
    "plt.xticks(rotation=90)\n",
    "\n",
    "sns.set_style(\"whitegrid\")\n",
    "\n",
    "ax = sns.barplot(x=dataset.index,y=dataset[\"Volume_In_Lacs\"])\n",
    "#sns.barplot(x=dataset.index,y=dataset[\"Volume_In_Lacs\"])\n",
    "ax.bar_label(ax.containers[0], fontsize = 8)\n",
    "plt.title(\"Dataset 50 Stocks Volume Traded in Lacs\")\n",
    "plt.xlabel(\"Stock Names\")\n",
    "plt.ylabel(\"Volume Traded(lacs)\")"
   ]
  },
  {
   "cell_type": "code",
   "execution_count": 60,
   "id": "5b7ec7b8-6a43-4bae-a4f1-33ceffd167f1",
   "metadata": {},
   "outputs": [],
   "source": [
    "import requests"
   ]
  },
  {
   "cell_type": "code",
   "execution_count": 53,
   "id": "f73b9105-a512-48b0-b1a1-542b5ccf952d",
   "metadata": {},
   "outputs": [],
   "source": [
    "response=requests.get(\"https://api.polygon.io/v2/aggs/ticker/AAPL/range/1/day/2021-07-22/2021-07-22?adjusted=true&sort=asc&limit=120&apiKey=xivf7L7vRTKaZlyt6JP9HefiquKS6v0I\")"
   ]
  },
  {
   "cell_type": "code",
   "execution_count": 54,
   "id": "93303fa0-7dfc-4506-a32a-73251d21c378",
   "metadata": {},
   "outputs": [
    {
     "name": "stdout",
     "output_type": "stream",
     "text": [
      "200\n"
     ]
    }
   ],
   "source": [
    "print (response.status_code)"
   ]
  },
  {
   "cell_type": "code",
   "execution_count": null,
   "id": "4a7dbe63-e59d-4ad1-8546-70cdf3f79c33",
   "metadata": {},
   "outputs": [],
   "source": []
  }
 ],
 "metadata": {
  "kernelspec": {
   "display_name": "Python 3",
   "language": "python",
   "name": "python3"
  },
  "language_info": {
   "codemirror_mode": {
    "name": "ipython",
    "version": 3
   },
   "file_extension": ".py",
   "mimetype": "text/x-python",
   "name": "python",
   "nbconvert_exporter": "python",
   "pygments_lexer": "ipython3",
   "version": "3.8.8"
  }
 },
 "nbformat": 4,
 "nbformat_minor": 5
}
